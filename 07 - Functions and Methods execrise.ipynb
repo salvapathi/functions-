{
 "cells": [
  {
   "cell_type": "markdown",
   "metadata": {
    "colab_type": "text",
    "id": "ulWPjwCr5CTn"
   },
   "source": [
    "# Functions and Methods Homework \n",
    "\n",
    "Complete the following questions:\n",
    "____\n",
    "**Write a function that computes the volume of a sphere given its radius.**"
   ]
  },
  {
   "cell_type": "markdown",
   "metadata": {
    "colab_type": "text",
    "id": "h7FOxpgS5CTr"
   },
   "source": [
    "volume = 4/3 pi $r ^3$"
   ]
  },
  {
   "cell_type": "code",
   "execution_count": 10,
   "metadata": {
    "colab": {},
    "colab_type": "code",
    "id": "zWF2MYhR5CTt"
   },
   "outputs": [
    {
     "name": "stdout",
     "output_type": "stream",
     "text": [
      "267.94666666666666\n"
     ]
    }
   ],
   "source": [
    "def vol(rad,pie):\n",
    "    print((4/3)*(pie)*((rad)**3))\n",
    "vol(4,3.14)"
   ]
  },
  {
   "cell_type": "markdown",
   "metadata": {
    "colab_type": "text",
    "id": "HMo_Rw5a5CTy"
   },
   "source": [
    "___\n",
    "**Write a function that checks whether a number is in a given range (Inclusive of high and low)**"
   ]
  },
  {
   "cell_type": "code",
   "execution_count": 15,
   "metadata": {
    "colab": {},
    "colab_type": "code",
    "id": "n0yqPe8E5CT0"
   },
   "outputs": [
    {
     "name": "stdout",
     "output_type": "stream",
     "text": [
      "its in range\n"
     ]
    }
   ],
   "source": [
    "def ran_check(num,low,high):\n",
    "    #for i in range(low,high):\n",
    "        if num>100:\n",
    "            print(\"its not in range\")\n",
    "        elif num<100:\n",
    "            print(\"its in range\")\n",
    "ran_check(50,0,100)"
   ]
  },
  {
   "cell_type": "markdown",
   "metadata": {
    "colab_type": "text",
    "id": "iwjtPA8c5CT7"
   },
   "source": [
    "If you only wanted to return a boolean:"
   ]
  },
  {
   "cell_type": "code",
   "execution_count": 25,
   "metadata": {
    "colab": {},
    "colab_type": "code",
    "id": "MpXji4ez5CT9"
   },
   "outputs": [
    {
     "name": "stdout",
     "output_type": "stream",
     "text": [
      "TRUE\n"
     ]
    }
   ],
   "source": [
    "def ran_bool(num,low,high):\n",
    "     if num>100:\n",
    "            print(\"FALSE\")\n",
    "     elif num<100:\n",
    "            print(\"TRUE\")\n",
    "            \n",
    "ran_bool(50,0,100)\n",
    " "
   ]
  },
  {
   "cell_type": "code",
   "execution_count": 0,
   "metadata": {
    "colab": {},
    "colab_type": "code",
    "id": "0V5Z-P4x5CUB",
    "outputId": "b840e6e7-7c34-491b-e39f-7ee3ed5feba5"
   },
   "outputs": [
    {
     "data": {
      "text/plain": [
       "True"
      ]
     },
     "execution_count": 9,
     "metadata": {
      "tags": []
     },
     "output_type": "execute_result"
    }
   ],
   "source": [
    "ran_bool(3,1,10)"
   ]
  },
  {
   "cell_type": "markdown",
   "metadata": {
    "colab_type": "text",
    "id": "vqDY4M-45CUJ"
   },
   "source": [
    "____\n",
    "**Write a Python function that accepts a string and calculate the number of upper case letters and lower case letters.**\n",
    "\n",
    "    Sample String : 'Hello Mr. Rogers, how are you this fine Tuesday?'\n",
    "    Expected Output : \n",
    "    No. of Upper case characters : 4\n",
    "    No. of Lower case Characters : 33\n",
    "\n",
    "If you feel ambitious, explore the Collections module to solve this problem!"
   ]
  },
  {
   "cell_type": "code",
   "execution_count": 48,
   "metadata": {
    "colab": {},
    "colab_type": "code",
    "id": "zK0dlL0J5CUK"
   },
   "outputs": [
    {
     "name": "stdout",
     "output_type": "stream",
     "text": [
      "33\n",
      "4\n"
     ]
    }
   ],
   "source": [
    "def up_low(s):\n",
    "    lower=\"\"\n",
    "    upper=\"\"\n",
    "    for i in s:\n",
    "        if i.isupper():\n",
    "            upper=upper+i\n",
    "        elif i.islower():\n",
    "            lower=lower+i\n",
    "    print(len(lower)) \n",
    "    print(len(upper))\n",
    "            \n",
    "  \n",
    "            \n",
    "up_low(\"Hello Mr. Rogers, how are you this fine Tuesday?\")"
   ]
  },
  {
   "cell_type": "markdown",
   "metadata": {
    "colab_type": "text",
    "id": "KM0XQc4W5CUP"
   },
   "source": [
    "____\n",
    "**Write a Python function that takes a list and returns a new list with unique elements of the first list.**\n",
    "\n",
    "    Sample List : [1,1,1,1,2,2,3,3,3,3,4,5]\n",
    "    Unique List : [1, 2, 3, 4, 5]"
   ]
  },
  {
   "cell_type": "code",
   "execution_count": 4,
   "metadata": {
    "colab": {},
    "colab_type": "code",
    "id": "CUat5ZSr5CUR"
   },
   "outputs": [],
   "source": [
    "#Sample=[1,1,1,1,2,2,3,3,3,3,4,5]\n",
    "#unique=[]\n",
    "def unique_list(l):\n",
    "    unique=[]\n",
    "    for i in l:\n",
    "        if i not in unique:\n",
    "            unique.append(i)\n",
    "    return(unique)\n",
    "\n",
    "   "
   ]
  },
  {
   "cell_type": "code",
   "execution_count": 5,
   "metadata": {},
   "outputs": [
    {
     "data": {
      "text/plain": [
       "[1, 2, 3, 4, 5]"
      ]
     },
     "execution_count": 5,
     "metadata": {},
     "output_type": "execute_result"
    }
   ],
   "source": [
    "unique_list([1,1,1,1,2,2,3,3,3,3,4,5])"
   ]
  },
  {
   "cell_type": "code",
   "execution_count": 0,
   "metadata": {
    "colab": {},
    "colab_type": "code",
    "id": "tutsZ1Tb5CUV",
    "outputId": "74ef6735-045d-4e4d-e542-a9d469bb2f3a"
   },
   "outputs": [
    {
     "data": {
      "text/plain": [
       "[1, 2, 3, 4, 5]"
      ]
     },
     "execution_count": 14,
     "metadata": {
      "tags": []
     },
     "output_type": "execute_result"
    }
   ],
   "source": [
    "unique_list([1,1,1,1,2,2,3,3,3,3,4,5])"
   ]
  },
  {
   "cell_type": "markdown",
   "metadata": {
    "colab_type": "text",
    "id": "ITK_schK5CUb"
   },
   "source": [
    "____\n",
    "**Write a Python function to multiply all the numbers in a list.**\n",
    "\n",
    "    Sample List : [1, 2, 3, -4]\n",
    "    Expected Output : -24"
   ]
  },
  {
   "cell_type": "code",
   "execution_count": 120,
   "metadata": {
    "colab": {},
    "colab_type": "code",
    "id": "8f0Y4zBT5CUd"
   },
   "outputs": [
    {
     "data": {
      "text/plain": [
       "-24"
      ]
     },
     "execution_count": 120,
     "metadata": {},
     "output_type": "execute_result"
    }
   ],
   "source": [
    "def multiply(numbers):\n",
    "    total=1\n",
    "    for i in numbers:\n",
    "         total *=i\n",
    "    return total\n",
    "   \n",
    "multiply([1,2,3,-4])"
   ]
  },
  {
   "cell_type": "code",
   "execution_count": null,
   "metadata": {},
   "outputs": [],
   "source": []
  },
  {
   "cell_type": "code",
   "execution_count": 0,
   "metadata": {
    "colab": {},
    "colab_type": "code",
    "id": "nk_bByrm5CUi",
    "outputId": "8f382453-247f-4f01-fcb2-1a29186b2b79"
   },
   "outputs": [
    {
     "data": {
      "text/plain": [
       "-24"
      ]
     },
     "execution_count": 18,
     "metadata": {
      "tags": []
     },
     "output_type": "execute_result"
    }
   ],
   "source": [
    "multiply([1,2,3,-4])"
   ]
  },
  {
   "cell_type": "markdown",
   "metadata": {
    "colab_type": "text",
    "id": "5lrg6QgD5CUm"
   },
   "source": [
    "____\n",
    "**Write a Python function that checks whether a passed string is palindrome or not.**\n",
    "\n",
    "Note: A palindrome is word, phrase, or sequence that reads the same backward as forward, e.g., madam or nurses run."
   ]
  },
  {
   "cell_type": "code",
   "execution_count": 8,
   "metadata": {
    "colab": {},
    "colab_type": "code",
    "id": "aQDoX-6Y5CUn"
   },
   "outputs": [
    {
     "name": "stdout",
     "output_type": "stream",
     "text": [
      "true\n"
     ]
    }
   ],
   "source": [
    "def palindrome(s):\n",
    "    if s==s[::-1]:\n",
    "        print(\"true\")\n",
    "    else:\n",
    "        print(\"false\")\n",
    "palindrome(\"samas\")"
   ]
  },
  {
   "cell_type": "code",
   "execution_count": 6,
   "metadata": {
    "colab": {},
    "colab_type": "code",
    "id": "Jc6_b7hQ5CUy",
    "outputId": "a23457aa-65fd-4176-ff6d-587c40392b42"
   },
   "outputs": [
    {
     "name": "stdout",
     "output_type": "stream",
     "text": [
      "false\n"
     ]
    }
   ],
   "source": [
    "palindrome('helleh')"
   ]
  },
  {
   "cell_type": "markdown",
   "metadata": {},
   "source": [
    "## Given a number N.Find Sum of 1 to N Using Recursion"
   ]
  },
  {
   "cell_type": "code",
   "execution_count": 10,
   "metadata": {},
   "outputs": [
    {
     "name": "stdout",
     "output_type": "stream",
     "text": [
      "<built-in function sum>\n"
     ]
    }
   ],
   "source": [
    "# CODE HERE\n",
    "def summation(n):\n",
    "    for i in range(1,n):\n",
    "        \n",
    "        \n",
    "        n = int(input())\n",
    "        sum=summation(n)\n",
    "print(sum)"
   ]
  },
  {
   "cell_type": "markdown",
   "metadata": {},
   "source": [
    "### Define a function which can generate and print a list where the values are square of numbers between 1 and 20"
   ]
  },
  {
   "cell_type": "code",
   "execution_count": 31,
   "metadata": {},
   "outputs": [
    {
     "name": "stdout",
     "output_type": "stream",
     "text": [
      "[1, 4, 9, 16, 25, 36, 49, 64, 81, 100, 121, 144, 169, 196, 225, 256, 289, 324, 361],"
     ]
    }
   ],
   "source": [
    "def printList(x,y):\n",
    "    list2=[]\n",
    "    for i in range(x,y):\n",
    "        i=i**2\n",
    "        list2.append(i)\n",
    "    print(list2,end=\",\")\n",
    "   \n",
    "printList(1,20)"
   ]
  },
  {
   "cell_type": "markdown",
   "metadata": {},
   "source": [
    "### Define a function which can generate a dictionary where the keys are numbers between 1 and 20 (both included) and the values are square of keys. The function should just print the keys only.\n",
    "\n"
   ]
  },
  {
   "cell_type": "code",
   "execution_count": 22,
   "metadata": {},
   "outputs": [
    {
     "name": "stdout",
     "output_type": "stream",
     "text": [
      "dict_keys([1, 2, 3, 4, 5, 6, 7, 8, 9, 10, 11, 12, 13, 14, 15, 16, 17, 18, 19, 20])\n"
     ]
    }
   ],
   "source": [
    "def printDict(x,y):\n",
    "    dict1=dict()\n",
    "    for i in range(x,y+1):\n",
    "        dict1[i]=i**2\n",
    "    print(dict1.keys())\n",
    "printDict(1,20)"
   ]
  },
  {
   "cell_type": "code",
   "execution_count": 11,
   "metadata": {},
   "outputs": [],
   "source": [
    "def name(x):\n",
    "    y=len(x)\n",
    "    return x,y"
   ]
  },
  {
   "cell_type": "code",
   "execution_count": 12,
   "metadata": {},
   "outputs": [
    {
     "data": {
      "text/plain": [
       "('innomatics research', 19)"
      ]
     },
     "execution_count": 12,
     "metadata": {},
     "output_type": "execute_result"
    }
   ],
   "source": [
    "name(\"innomatics research\")"
   ]
  },
  {
   "cell_type": "code",
   "execution_count": 35,
   "metadata": {},
   "outputs": [],
   "source": [
    "def \n",
    "    \n",
    "        "
   ]
  },
  {
   "cell_type": "code",
   "execution_count": 36,
   "metadata": {},
   "outputs": [],
   "source": [
    "full(\"innomatics research\")"
   ]
  },
  {
   "cell_type": "markdown",
   "metadata": {},
   "source": [
    "### Write a function that count the no of characters of the given input text\n",
    "- input\n",
    "    - innomatics research labs\n",
    "    \n",
    "- output\n",
    "    - innomatics :10\n",
    "    - research : 8\n",
    "    - labs : 4"
   ]
  },
  {
   "cell_type": "code",
   "execution_count": 4,
   "metadata": {},
   "outputs": [],
   "source": [
    "def fun(x):\n",
    "    if x>1:\n",
    "        print(\"innomatics:\",len(\"innomatics\"))\n",
    "        print(\"research:\",len(\"research\"))\n",
    "        print(\"labs:\",len(\"labs\"))"
   ]
  },
  {
   "cell_type": "code",
   "execution_count": 5,
   "metadata": {},
   "outputs": [
    {
     "name": "stdout",
     "output_type": "stream",
     "text": [
      "innomatics: 10\n",
      "research: 8\n",
      "labs: 4\n"
     ]
    }
   ],
   "source": [
    "fun(2)"
   ]
  },
  {
   "cell_type": "markdown",
   "metadata": {},
   "source": [
    "### Write a program which can map() to make a list whose elements are square of elements in [1,2,3,4,5,6,7,8,9,10].\n",
    "\n",
    "Using map() function"
   ]
  },
  {
   "cell_type": "code",
   "execution_count": 52,
   "metadata": {},
   "outputs": [
    {
     "name": "stdout",
     "output_type": "stream",
     "text": [
      "[1, 4, 9, 16, 25, 36, 49, 64, 81, 100]\n"
     ]
    }
   ],
   "source": [
    "li=[1, 2, 3, 4, 5, 6, 7, 8, 9, 10]\n",
    "square=list(map(lambda x:x**2,li))\n",
    "print(square)"
   ]
  },
  {
   "cell_type": "code",
   "execution_count": 53,
   "metadata": {},
   "outputs": [
    {
     "name": "stdout",
     "output_type": "stream",
     "text": [
      "[1, 4, 9, 16, 25, 36, 49, 64, 81, 100]\n"
     ]
    }
   ],
   "source": [
    "# CODE HERE\n",
    "# No different way of code is written as the requirment is specificly mentioned in problem description\n",
    "\n",
    "li = [1, 2, 3, 4, 5, 6, 7, 8, 9, 10]\n",
    "squaredNumbers=map(lambda x:x**2,li)\n",
    "print(list(squaredNumbers))  t"
   ]
  },
  {
   "cell_type": "markdown",
   "metadata": {},
   "source": [
    "### Write a program which can map() and filter() to make a list whose elements are square of even number in [1,2,3,4,5,6,7,8,9,10].\n",
    "##### using filter()"
   ]
  },
  {
   "cell_type": "code",
   "execution_count": 25,
   "metadata": {},
   "outputs": [
    {
     "data": {
      "text/plain": [
       "[4, 16, 36, 64, 100]"
      ]
     },
     "execution_count": 25,
     "metadata": {},
     "output_type": "execute_result"
    }
   ],
   "source": [
    "\n",
    "li=[1,2,3,4,5,6,7,8,9,10]\n",
    "def even(x):\n",
    "    return x%2==0\n",
    "sq=list(filter(even,li))\n",
    "def squer(x):\n",
    "    return x**2\n",
    "list(map(squer,sq))\n",
    "    \n",
    "# code here\n",
    "# first filters number by even number and the apply map() on the resultant elements\n",
    "#print(list())"
   ]
  },
  {
   "cell_type": "markdown",
   "metadata": {},
   "source": [
    "### Write a program which can filter() to make a list whose elements are even number between 1 and 20 (both included)"
   ]
  },
  {
   "cell_type": "code",
   "execution_count": 28,
   "metadata": {},
   "outputs": [
    {
     "name": "stdout",
     "output_type": "stream",
     "text": [
      "[2, 4, 6, 8, 10, 12, 14, 16, 18, 20]\n"
     ]
    }
   ],
   "source": [
    "# CODE HERE\n",
    "def even(x):\n",
    "    return x%2==0\n",
    "\n",
    "\n",
    "\n",
    "evenNumbers = filter(even, range(1, 21))\n",
    "print(list(evenNumbers))"
   ]
  },
  {
   "cell_type": "markdown",
   "metadata": {},
   "source": [
    "### $f(n)=f(n-1)+f(n-2)$ if n>1"
   ]
  },
  {
   "cell_type": "code",
   "execution_count": 1,
   "metadata": {},
   "outputs": [],
   "source": [
    "def f(n):\n",
    "    if n<=1:\n",
    "        return n\n",
    "    else:\n",
    "        return f(n-1)+f(n-2)\n",
    "    "
   ]
  },
  {
   "cell_type": "code",
   "execution_count": 2,
   "metadata": {},
   "outputs": [
    {
     "data": {
      "text/plain": [
       "13"
      ]
     },
     "execution_count": 2,
     "metadata": {},
     "output_type": "execute_result"
    }
   ],
   "source": [
    "f(7)"
   ]
  },
  {
   "cell_type": "markdown",
   "metadata": {
    "colab_type": "text",
    "id": "GKCWkFCm5CU_"
   },
   "source": [
    "# [Innomatics Research Labs](https:/innomatics.in/)\n",
    "[www.innomatics.in](https:/innomatics.in/)"
   ]
  },
  {
   "cell_type": "code",
   "execution_count": null,
   "metadata": {},
   "outputs": [],
   "source": []
  }
 ],
 "metadata": {
  "colab": {
   "name": "03 - Functions and Methods execrise.ipynb",
   "provenance": []
  },
  "kernelspec": {
   "display_name": "Python 3 (ipykernel)",
   "language": "python",
   "name": "python3"
  },
  "language_info": {
   "codemirror_mode": {
    "name": "ipython",
    "version": 3
   },
   "file_extension": ".py",
   "mimetype": "text/x-python",
   "name": "python",
   "nbconvert_exporter": "python",
   "pygments_lexer": "ipython3",
   "version": "3.9.13"
  }
 },
 "nbformat": 4,
 "nbformat_minor": 1
}
